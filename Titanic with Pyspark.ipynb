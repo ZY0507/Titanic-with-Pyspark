{
 "cells": [
  {
   "cell_type": "markdown",
   "metadata": {
    "application/vnd.databricks.v1+cell": {
     "cellMetadata": {
      "byteLimit": 2048000,
      "rowLimit": 10000
     },
     "inputWidgets": {},
     "nuid": "7ca99b59-d576-4abf-8b7b-412f2fd01545",
     "showTitle": false,
     "title": ""
    }
   },
   "source": [
    "# Overview\n",
    "\n",
    "The description is available via: https://www.kaggle.com/competitions/titanic/data\n",
    "\n",
    "The data has been split into two groups:\n",
    "\n",
    "* training set (train.csv)\n",
    "* test set (test.csv)\n",
    "\n",
    "**The training set** should be used to build your machine learning models. For the training set, we provide the outcome (also known as the “ground truth”) for each passenger. Your model will be based on “features” like passengers’ gender and class. You can also use feature engineering to create new features.\n",
    "\n",
    "**The test set** should be used to see how well your model performs on unseen data. For the test set, we do not provide the ground truth for each passenger. It is your job to predict these outcomes. For each passenger in the test set, use the model you trained to predict whether or not they survived the sinking of the Titanic.\n",
    "\n",
    "We also include **gender_submission.csv**, a set of predictions that assume all and only female passengers survive, as an example of what a submission file should look like."
   ]
  },
  {
   "cell_type": "markdown",
   "metadata": {
    "application/vnd.databricks.v1+cell": {
     "cellMetadata": {
      "byteLimit": 2048000,
      "rowLimit": 10000
     },
     "inputWidgets": {},
     "nuid": "735f654a-e65a-45e0-80c2-679d9ee081a5",
     "showTitle": false,
     "title": ""
    }
   },
   "source": [
    "# Step 1 - Prepare the Necessary Datasets"
   ]
  },
  {
   "cell_type": "code",
   "execution_count": 0,
   "metadata": {
    "application/vnd.databricks.v1+cell": {
     "cellMetadata": {
      "byteLimit": 2048000,
      "rowLimit": 10000
     },
     "inputWidgets": {},
     "nuid": "db2f48f4-4949-4e3a-a3b0-2c4506c3b078",
     "showTitle": false,
     "title": ""
    }
   },
   "outputs": [
    {
     "output_type": "stream",
     "name": "stdout",
     "output_type": "stream",
     "text": [
      "+-----------+--------+------+--------------------+------+----+-----+-----+----------------+-------+-----+--------+\n|PassengerId|Survived|Pclass|                Name|   Sex| Age|SibSp|Parch|          Ticket|   Fare|Cabin|Embarked|\n+-----------+--------+------+--------------------+------+----+-----+-----+----------------+-------+-----+--------+\n|          1|       0|     3|Braund, Mr. Owen ...|  male|22.0|    1|    0|       A/5 21171|   7.25| null|       S|\n|          2|       1|     1|Cumings, Mrs. Joh...|female|38.0|    1|    0|        PC 17599|71.2833|  C85|       C|\n|          3|       1|     3|Heikkinen, Miss. ...|female|26.0|    0|    0|STON/O2. 3101282|  7.925| null|       S|\n|          4|       1|     1|Futrelle, Mrs. Ja...|female|35.0|    1|    0|          113803|   53.1| C123|       S|\n|          5|       0|     3|Allen, Mr. Willia...|  male|35.0|    0|    0|          373450|   8.05| null|       S|\n|          6|       0|     3|    Moran, Mr. James|  male|null|    0|    0|          330877| 8.4583| null|       Q|\n|          7|       0|     1|McCarthy, Mr. Tim...|  male|54.0|    0|    0|           17463|51.8625|  E46|       S|\n|          8|       0|     3|Palsson, Master. ...|  male| 2.0|    3|    1|          349909| 21.075| null|       S|\n|          9|       1|     3|Johnson, Mrs. Osc...|female|27.0|    0|    2|          347742|11.1333| null|       S|\n|         10|       1|     2|Nasser, Mrs. Nich...|female|14.0|    1|    0|          237736|30.0708| null|       C|\n+-----------+--------+------+--------------------+------+----+-----+-----+----------------+-------+-----+--------+\nonly showing top 10 rows\n\n+-----------+------+--------------------+------+----+-----+-----+---------+-------+-----+--------+\n|PassengerId|Pclass|                Name|   Sex| Age|SibSp|Parch|   Ticket|   Fare|Cabin|Embarked|\n+-----------+------+--------------------+------+----+-----+-----+---------+-------+-----+--------+\n|        892|     3|    Kelly, Mr. James|  male|34.5|    0|    0|   330911| 7.8292| null|       Q|\n|        893|     3|Wilkes, Mrs. Jame...|female|47.0|    1|    0|   363272|    7.0| null|       S|\n|        894|     2|Myles, Mr. Thomas...|  male|62.0|    0|    0|   240276| 9.6875| null|       Q|\n|        895|     3|    Wirz, Mr. Albert|  male|27.0|    0|    0|   315154| 8.6625| null|       S|\n|        896|     3|Hirvonen, Mrs. Al...|female|22.0|    1|    1|  3101298|12.2875| null|       S|\n|        897|     3|Svensson, Mr. Joh...|  male|14.0|    0|    0|     7538|  9.225| null|       S|\n|        898|     3|Connolly, Miss. Kate|female|30.0|    0|    0|   330972| 7.6292| null|       Q|\n|        899|     2|Caldwell, Mr. Alb...|  male|26.0|    1|    1|   248738|   29.0| null|       S|\n|        900|     3|Abrahim, Mrs. Jos...|female|18.0|    0|    0|     2657| 7.2292| null|       C|\n|        901|     3|Davies, Mr. John ...|  male|21.0|    2|    0|A/4 48871|  24.15| null|       S|\n+-----------+------+--------------------+------+----+-----+-----+---------+-------+-----+--------+\nonly showing top 10 rows\n\n"
     ]
    }
   ],
   "source": [
    "# Load data directly from the DBFS FileStore\n",
    "df_train = spark.read.csv('/FileStore/tables/train.csv',header=True,inferSchema=True)\n",
    "df_test = spark.read.csv('/FileStore/tables/test.csv',header=True,inferSchema=True)\n",
    "\n",
    "# Compare the differences, the test file does not have the column 'Survived' \n",
    "df_train.show(10)\n",
    "df_test.show(10)"
   ]
  },
  {
   "cell_type": "code",
   "execution_count": 0,
   "metadata": {
    "application/vnd.databricks.v1+cell": {
     "cellMetadata": {
      "byteLimit": 2048000,
      "rowLimit": 10000
     },
     "inputWidgets": {},
     "nuid": "b0f2b882-e44a-45f0-9a35-e1a219805980",
     "showTitle": false,
     "title": ""
    }
   },
   "outputs": [
    {
     "output_type": "stream",
     "name": "stdout",
     "output_type": "stream",
     "text": [
      "root\n |-- PassengerId: integer (nullable = true)\n |-- Survived: integer (nullable = true)\n |-- Pclass: integer (nullable = true)\n |-- Name: string (nullable = true)\n |-- Sex: string (nullable = true)\n |-- Age: double (nullable = true)\n |-- SibSp: integer (nullable = true)\n |-- Parch: integer (nullable = true)\n |-- Ticket: string (nullable = true)\n |-- Fare: double (nullable = true)\n |-- Cabin: string (nullable = true)\n |-- Embarked: string (nullable = true)\n\nroot\n |-- PassengerId: integer (nullable = true)\n |-- Pclass: integer (nullable = true)\n |-- Name: string (nullable = true)\n |-- Sex: string (nullable = true)\n |-- Age: double (nullable = true)\n |-- SibSp: integer (nullable = true)\n |-- Parch: integer (nullable = true)\n |-- Ticket: string (nullable = true)\n |-- Fare: double (nullable = true)\n |-- Cabin: string (nullable = true)\n |-- Embarked: string (nullable = true)\n\n"
     ]
    }
   ],
   "source": [
    "# Check the datatypes\n",
    "df_train.printSchema()\n",
    "df_test.printSchema()"
   ]
  },
  {
   "cell_type": "markdown",
   "metadata": {
    "application/vnd.databricks.v1+cell": {
     "cellMetadata": {
      "byteLimit": 2048000,
      "rowLimit": 10000
     },
     "inputWidgets": {},
     "nuid": "5e366502-6418-4bd4-804e-6f716c6975d7",
     "showTitle": false,
     "title": ""
    }
   },
   "source": [
    "# Step 2 - Handle the Missing Data"
   ]
  },
  {
   "cell_type": "code",
   "execution_count": 0,
   "metadata": {
    "application/vnd.databricks.v1+cell": {
     "cellMetadata": {
      "byteLimit": 2048000,
      "rowLimit": 10000
     },
     "inputWidgets": {},
     "nuid": "a61540ed-c3a5-46e9-abb0-24cabbaba385",
     "showTitle": false,
     "title": ""
    }
   },
   "outputs": [
    {
     "output_type": "stream",
     "name": "stdout",
     "output_type": "stream",
     "text": [
      "Null Counts in Train Data:\n+-----------+--------+------+----+---+---+-----+-----+------+----+-----+--------+\n|PassengerId|Survived|Pclass|Name|Sex|Age|SibSp|Parch|Ticket|Fare|Cabin|Embarked|\n+-----------+--------+------+----+---+---+-----+-----+------+----+-----+--------+\n|          0|       0|     0|   0|  0|177|    0|    0|     0|   0|  687|       2|\n+-----------+--------+------+----+---+---+-----+-----+------+----+-----+--------+\n\nNull Counts in Test Data:\n+-----------+------+----+---+---+-----+-----+------+----+-----+--------+\n|PassengerId|Pclass|Name|Sex|Age|SibSp|Parch|Ticket|Fare|Cabin|Embarked|\n+-----------+------+----+---+---+-----+-----+------+----+-----+--------+\n|          0|     0|   0|  0| 86|    0|    0|     0|   1|  327|       0|\n+-----------+------+----+---+---+-----+-----+------+----+-----+--------+\n\n"
     ]
    }
   ],
   "source": [
    "from pyspark.sql.functions import count, when\n",
    "\n",
    "# Count the number of null values in each column\n",
    "train_null_counts = df_train.select([count(when(isnull(c), c)).alias(c) for c in df_train.columns])\n",
    "test_null_counts = df_test.select([count(when(isnull(c), c)).alias(c) for c in df_test.columns])\n",
    "\n",
    "# Show the count of null values\n",
    "print('Null Counts in Train Data:')\n",
    "train_null_counts.show()\n",
    "\n",
    "print('Null Counts in Test Data:')\n",
    "test_null_counts.show()"
   ]
  },
  {
   "cell_type": "markdown",
   "metadata": {
    "application/vnd.databricks.v1+cell": {
     "cellMetadata": {
      "byteLimit": 2048000,
      "rowLimit": 10000
     },
     "inputWidgets": {},
     "nuid": "137a8a5f-a601-474d-beac-829cfa910719",
     "showTitle": false,
     "title": ""
    }
   },
   "source": [
    "## Handle Column \"Fare\""
   ]
  },
  {
   "cell_type": "code",
   "execution_count": 0,
   "metadata": {
    "application/vnd.databricks.v1+cell": {
     "cellMetadata": {
      "byteLimit": 2048000,
      "rowLimit": 10000
     },
     "inputWidgets": {},
     "nuid": "ea53e7d3-3e87-45d8-b498-2ea634a30851",
     "showTitle": false,
     "title": ""
    }
   },
   "outputs": [
    {
     "output_type": "stream",
     "name": "stdout",
     "output_type": "stream",
     "text": [
      "Rows with null 'Fare' in the test DataFrame:\n+-----------+------+------------------+----+----+-----+-----+------+----+-----+--------+\n|PassengerId|Pclass|              Name| Sex| Age|SibSp|Parch|Ticket|Fare|Cabin|Embarked|\n+-----------+------+------------------+----+----+-----+-----+------+----+-----+--------+\n|       1044|     3|Storey, Mr. Thomas|male|60.5|    0|    0|  3701|null| null|       S|\n+-----------+------+------------------+----+----+-----+-----+------+----+-----+--------+\n\n"
     ]
    }
   ],
   "source": [
    "# Filter rows where 'Fare' is null in the test DataFrame\n",
    "df_test_fare_null = df_test.filter(isnull(col('Fare')))\n",
    "\n",
    "# Show the rows with null 'Fare' in the test DataFrame\n",
    "print(\"Rows with null 'Fare' in the test DataFrame:\")\n",
    "df_test_fare_null.show()"
   ]
  },
  {
   "cell_type": "code",
   "execution_count": 0,
   "metadata": {
    "application/vnd.databricks.v1+cell": {
     "cellMetadata": {
      "byteLimit": 2048000,
      "rowLimit": 10000
     },
     "inputWidgets": {},
     "nuid": "a399bd28-1414-4a7b-bdb7-46650303ff1e",
     "showTitle": false,
     "title": ""
    }
   },
   "outputs": [
    {
     "output_type": "stream",
     "name": "stdout",
     "output_type": "stream",
     "text": [
      "Median Fare per Pclass and Embarked :\n+------+--------+-----------+\n|Pclass|Embarked|Fare_Median|\n+------+--------+-----------+\n|     3|       C|     7.8958|\n|     2|       C|       24.0|\n|     1|    null|       80.0|\n|     1|       Q|       90.0|\n|     3|       Q|       7.75|\n|     2|       Q|      12.35|\n|     1|       C|    78.2667|\n|     1|       S|       52.0|\n|     3|       S|       8.05|\n|     2|       S|       13.5|\n+------+--------+-----------+\n\n"
     ]
    }
   ],
   "source": [
    "from pyspark.sql.functions import col, when, coalesce, expr\n",
    "\n",
    "# Calculate the median fare for each combination of 'Embarked' and 'Pclass'\n",
    "Fare_Medians = df_train.groupBy(\"Pclass\", \"Embarked\").agg(expr(\"percentile_approx(Fare, 0.5)\").alias(\"Fare_Median\"))\n",
    "\n",
    "# Show the median values\n",
    "print(\"Median Fare per Pclass and Embarked :\")\n",
    "Fare_Medians.show()"
   ]
  },
  {
   "cell_type": "code",
   "execution_count": 0,
   "metadata": {
    "application/vnd.databricks.v1+cell": {
     "cellMetadata": {
      "byteLimit": 2048000,
      "rowLimit": 10000
     },
     "inputWidgets": {},
     "nuid": "74c25b2e-cc2d-445e-95ea-50fc38c98c18",
     "showTitle": false,
     "title": ""
    }
   },
   "outputs": [
    {
     "output_type": "stream",
     "name": "stdout",
     "output_type": "stream",
     "text": [
      "Rows where 'Fare' was replaced:\n+--------+------+-----------+------------------+----+----+-----+-----+------+----+-----+\n|Embarked|Pclass|PassengerId|              Name| Sex| Age|SibSp|Parch|Ticket|Fare|Cabin|\n+--------+------+-----------+------------------+----+----+-----+-----+------+----+-----+\n|       S|     3|       1044|Storey, Mr. Thomas|male|60.5|    0|    0|  3701|8.05| null|\n+--------+------+-----------+------------------+----+----+-----+-----+------+----+-----+\n\n"
     ]
    }
   ],
   "source": [
    "# Join the original DataFrame with the median values\n",
    "df_joined = df_test.join(medians, on=[\"Embarked\", \"Pclass\"], how=\"left\")\n",
    "\n",
    "# Create a flag column to mark rows where 'Fare' was originally null\n",
    "df_flagged = df_joined.withColumn(\"Fare_Replaced\", when(col(\"Fare\").isNull(), 1).otherwise(0))\n",
    "\n",
    "# Fill null values in 'Fare' column using the median values\n",
    "df_test = df_flagged.withColumn(\"Fare\", coalesce(col(\"Fare\"), col(\"Fare_Median\"))).drop('Fare_Median','Fare_Replaced')\n",
    "\n",
    "# Filter and show the rows where 'Fare' was replaced\n",
    "print(\"Rows where 'Fare' was replaced:\")\n",
    "df_replaced = df_test.filter(col(\"Fare_replaced\") == 1)\n",
    "df_replaced.show()"
   ]
  },
  {
   "cell_type": "markdown",
   "metadata": {
    "application/vnd.databricks.v1+cell": {
     "cellMetadata": {
      "byteLimit": 2048000,
      "rowLimit": 10000
     },
     "inputWidgets": {},
     "nuid": "842f943f-abe5-4d8b-9a49-7a5fce30ee1e",
     "showTitle": false,
     "title": ""
    }
   },
   "source": [
    "## Handle Column \"Embarked\""
   ]
  },
  {
   "cell_type": "code",
   "execution_count": 0,
   "metadata": {
    "application/vnd.databricks.v1+cell": {
     "cellMetadata": {
      "byteLimit": 2048000,
      "rowLimit": 10000
     },
     "inputWidgets": {},
     "nuid": "b4b9a00f-1942-4a86-b739-3ae00f09c5cb",
     "showTitle": false,
     "title": ""
    }
   },
   "outputs": [
    {
     "output_type": "stream",
     "name": "stdout",
     "output_type": "stream",
     "text": [
      "Rows where 'Embarked' was replaced:\n+-----------+--------+------+--------------------+------+----+-----+-----+------+----+-----+--------+\n|PassengerId|Survived|Pclass|                Name|   Sex| Age|SibSp|Parch|Ticket|Fare|Cabin|Embarked|\n+-----------+--------+------+--------------------+------+----+-----+-----+------+----+-----+--------+\n|         62|       1|     1| Icard, Miss. Amelie|female|38.0|    0|    0|113572|80.0|  B28|       S|\n|        830|       1|     1|Stone, Mrs. Georg...|female|62.0|    0|    0|113572|80.0|  B28|       S|\n+-----------+--------+------+--------------------+------+----+-----+-----+------+----+-----+--------+\n\n"
     ]
    }
   ],
   "source": [
    "# Calculate the mode of the 'Embarked' column\n",
    "mode_embarked = df_train.groupBy(\"Embarked\").count().orderBy(col(\"count\").desc()).first()[\"Embarked\"]\n",
    "\n",
    "# Create a flag column to indicate which rows are being replaced\n",
    "df_flagged = df_train.withColumn(\"Embarked_Replaced\", when(col(\"Embarked\").isNull(), 1).otherwise(0))\n",
    "\n",
    "# Fill null values in 'Embarked' column with the mode value\n",
    "df_train = df_flagged.withColumn(\"Embarked\", coalesce(col(\"Embarked\"), expr(f\"'{mode_embarked}'\"))).drop(\"Embarked_Replaced\")\n",
    "\n",
    "# Filter and show the rows where 'Embarked' was replaced\n",
    "print(\"Rows where 'Embarked' was replaced:\")\n",
    "df_replaced = df_train.filter(col(\"Embarked_Replaced\") == 1)\n",
    "df_replaced.show()\n",
    "#df_replaced.show()"
   ]
  },
  {
   "cell_type": "markdown",
   "metadata": {
    "application/vnd.databricks.v1+cell": {
     "cellMetadata": {
      "byteLimit": 2048000,
      "rowLimit": 10000
     },
     "inputWidgets": {},
     "nuid": "8fbb0ea7-dac4-485b-9285-76826427efde",
     "showTitle": false,
     "title": ""
    }
   },
   "source": [
    "## Handle Column \"Age\""
   ]
  },
  {
   "cell_type": "code",
   "execution_count": 0,
   "metadata": {
    "application/vnd.databricks.v1+cell": {
     "cellMetadata": {
      "byteLimit": 2048000,
      "rowLimit": 10000
     },
     "inputWidgets": {},
     "nuid": "034ebdb4-447a-480a-97b0-828699112a0a",
     "showTitle": false,
     "title": ""
    }
   },
   "outputs": [
    {
     "output_type": "stream",
     "name": "stdout",
     "output_type": "stream",
     "text": [
      "Median Fare per Pclass, Sex, Sibsp, Parch, and Embarked (Train):\n+------+-----+-----+----------+\n|Pclass|Sibsp|Parch|Age_Median|\n+------+-----+-----+----------+\n|     3|    3|    1|   25.4667|\n|     3|    1|    4|      27.9|\n|     3|    0|    0|    7.8958|\n|     1|    3|    2|     263.0|\n|     3|    1|    1|      15.5|\n|     1|    0|    1|   77.2875|\n|     1|    1|    1|     79.65|\n|     2|    0|    0|      13.0|\n|     3|    4|    1|   39.6875|\n|     3|    2|    0|      18.0|\n|     1|    0|    0|      31.0|\n|     1|    1|    0|   76.7292|\n|     2|    2|    0|      73.5|\n|     2|    1|    0|      26.0|\n|     3|    1|    5|    31.275|\n|     3|    3|    0|     15.85|\n|     2|    2|    1|      27.0|\n|     2|    3|    0|      21.0|\n|     1|    2|    2|   262.375|\n|     3|    2|    2|    34.375|\n+------+-----+-----+----------+\nonly showing top 20 rows\n\nMedian Fare per Pclass, Sex, Sibsp, Parch, and Embarked (Test):\n+------+-----+-----+----------+\n|Pclass|Sibsp|Parch|Age_Median|\n+------+-----+-----+----------+\n|     3|    3|    1|    21.075|\n|     3|    0|    0|    7.7958|\n|     1|    3|    2|     263.0|\n|     2|    0|    3|      39.0|\n|     3|    1|    1|   15.2458|\n|     1|    0|    1|   61.3792|\n|     3|    1|    9|     69.55|\n|     1|    1|    1|      93.5|\n|     2|    0|    0|      13.0|\n|     3|    4|    1|    29.125|\n|     3|    2|    0|   21.6792|\n|     1|    0|    0|   31.6792|\n|     1|    1|    0|    61.175|\n|     2|    2|    0|      31.5|\n|     2|    1|    0|      26.0|\n|     1|    1|    3|   262.375|\n|     3|    1|    5|   31.3875|\n|     3|    3|    0|      18.0|\n|     2|    2|    1|      23.0|\n|     1|    2|    2|   262.375|\n+------+-----+-----+----------+\nonly showing top 20 rows\n\n"
     ]
    }
   ],
   "source": [
    "# Define the grouping columns\n",
    "# group = ['Pclass', 'Sex', 'Sibsp', 'Parch', 'Embarked']\n",
    "group = ['Pclass', 'Sibsp', 'Parch']\n",
    "\n",
    "# Calculate the median fare for each combination of 'Pclass', 'Sex', 'Sibsp', 'Parch', and 'Embarked'\n",
    "train_medians = df_train.groupBy(group).agg(expr('percentile_approx(Fare, 0.5)').alias('Age_Median'))\n",
    "test_medians = df_test.groupBy(group).agg(expr('percentile_approx(Fare, 0.5)').alias('Age_Median'))\n",
    "\n",
    "# Show the median values for train and test\n",
    "print('Median Fare per Pclass, Sex, Sibsp, Parch, and Embarked (Train):')\n",
    "# train_medians.count()\n",
    "train_medians.show()\n",
    "\n",
    "print('Median Fare per Pclass, Sex, Sibsp, Parch, and Embarked (Test):')\n",
    "# test_medians.count()\n",
    "test_medians.show()"
   ]
  },
  {
   "cell_type": "code",
   "execution_count": 0,
   "metadata": {
    "application/vnd.databricks.v1+cell": {
     "cellMetadata": {
      "byteLimit": 2048000,
      "rowLimit": 10000
     },
     "inputWidgets": {},
     "nuid": "0ba1f3b5-3299-4020-bf5c-a254dd2bbda8",
     "showTitle": false,
     "title": ""
    }
   },
   "outputs": [
    {
     "output_type": "stream",
     "name": "stdout",
     "output_type": "stream",
     "text": [
      "Rows where 'Age' was replaced in Train Data:\n+------+-----+-----+-----------+--------+--------------------+------+-------+---------------+--------+-----+--------+\n|Pclass|SibSp|Parch|PassengerId|Survived|                Name|   Sex|    Age|         Ticket|    Fare|Cabin|Embarked|\n+------+-----+-----+-----------+--------+--------------------+------+-------+---------------+--------+-----+--------+\n|     3|    0|    0|          6|       0|    Moran, Mr. James|  male| 7.8958|         330877|  8.4583| null|       Q|\n|     2|    0|    0|         18|       1|Williams, Mr. Cha...|  male|   13.0|         244373|    13.0| null|       S|\n|     3|    0|    0|         20|       1|Masselmani, Mrs. ...|female| 7.8958|           2649|   7.225| null|       C|\n|     3|    0|    0|         27|       0|Emir, Mr. Farred ...|  male| 7.8958|           2631|   7.225| null|       C|\n|     3|    0|    0|         29|       1|\"O'Dwyer, Miss. E...|female| 7.8958|         330959|  7.8792| null|       Q|\n|     3|    0|    0|         30|       0| Todoroff, Mr. Lalio|  male| 7.8958|         349216|  7.8958| null|       S|\n|     1|    1|    0|         32|       1|Spencer, Mrs. Wil...|female|76.7292|       PC 17569|146.5208|  B78|       C|\n|     3|    0|    0|         33|       1|Glynn, Miss. Mary...|female| 7.8958|         335677|    7.75| null|       Q|\n|     3|    0|    0|         37|       1|    Mamee, Mr. Hanna|  male| 7.8958|           2677|  7.2292| null|       C|\n|     3|    0|    0|         43|       0| Kraeff, Mr. Theodor|  male| 7.8958|         349253|  7.8958| null|       C|\n|     3|    0|    0|         46|       0|Rogers, Mr. Willi...|  male| 7.8958|S.C./A.4. 23567|    8.05| null|       S|\n|     3|    1|    0|         47|       0|   Lennon, Mr. Denis|  male|   14.5|         370371|    15.5| null|       Q|\n|     3|    0|    0|         48|       1|O'Driscoll, Miss....|female| 7.8958|          14311|    7.75| null|       Q|\n|     3|    2|    0|         49|       0| Samaan, Mr. Youssef|  male|   18.0|           2662| 21.6792| null|       C|\n|     1|    0|    0|         56|       1|   Woolner, Mr. Hugh|  male|   31.0|          19947|    35.5|  C52|       S|\n|     1|    0|    0|         65|       0|Stewart, Mr. Albe...|  male|   31.0|       PC 17605| 27.7208| null|       C|\n|     3|    1|    1|         66|       1|Moubarek, Master....|  male|   15.5|           2661| 15.2458| null|       C|\n|     3|    0|    0|         77|       0|   Staneff, Mr. Ivan|  male| 7.8958|         349208|  7.8958| null|       S|\n|     3|    0|    0|         78|       0|Moutal, Mr. Raham...|  male| 7.8958|         374746|    8.05| null|       S|\n|     3|    0|    0|         83|       1|McDermott, Miss. ...|female| 7.8958|         330932|  7.7875| null|       Q|\n+------+-----+-----+-----------+--------+--------------------+------+-------+---------------+--------+-----+--------+\nonly showing top 20 rows\n\nRows where 'Age' was replaced in Test Data:\n+------+-----+-----+--------+-----------+--------------------+------+-------+------------+-------+-----+\n|Pclass|SibSp|Parch|Embarked|PassengerId|                Name|   Sex|    Age|      Ticket|   Fare|Cabin|\n+------+-----+-----+--------+-----------+--------------------+------+-------+------------+-------+-----+\n|     3|    0|    0|       S|        902|    Ilieff, Mr. Ylio|  male| 7.7958|      349220| 7.8958| null|\n|     1|    0|    0|       S|        914|Flegenheim, Mrs. ...|female|31.6792|    PC 17598|31.6833| null|\n|     3|    2|    0|       C|        921|   Samaan, Mr. Elias|  male|21.6792|        2662|21.6792| null|\n|     3|    1|    2|       S|        925|\"Johnston, Mrs. A...|female| 20.575|  W./C. 6607|  23.45| null|\n|     3|    0|    0|       S|        928| Roth, Miss. Sarah A|female| 7.7958|      342712|   8.05| null|\n|     3|    0|    0|       S|        931|       Hee, Mr. Ling|  male| 7.7958|        1601|56.4958| null|\n|     1|    0|    0|       S|        933|Franklin, Mr. Tho...|  male|31.6792|      113778|  26.55|  D34|\n|     3|    0|    0|       Q|        939|Shaughnessy, Mr. ...|  male| 7.7958|      370374|   7.75| null|\n|     2|    0|    0|       C|        946|Mangiavacchi, Mr....|  male|   13.0| SC/A.3 2861|15.5792| null|\n|     3|    1|    0|       S|        950|Davison, Mr. Thom...|  male|14.4542|      386525|   16.1| null|\n|     2|    0|    0|       S|        957|Corey, Mrs. Percy...|female|   13.0|F.C.C. 13534|   21.0| null|\n|     3|    0|    0|       S|        968|    Miles, Mr. Frank|  male| 7.7958|      359306|   8.05| null|\n|     3|    0|    0|       S|        975|Demetri, Mr. Marinko|  male| 7.7958|      349238| 7.8958| null|\n|     2|    0|    0|       Q|        976|Lamb, Mr. John Jo...|  male|   13.0|      240261|10.7083| null|\n|     3|    1|    0|       C|        977|  Khalil, Mr. Betros|  male|14.4542|        2660|14.4542| null|\n|     3|    0|    0|       Q|        980|O'Donoghue, Ms. B...|female| 7.7958|      364856|   7.75| null|\n|     3|    0|    0|       S|        983|  Pedersen, Mr. Olaf|  male| 7.7958|      345498|  7.775| null|\n|     3|    0|    0|       S|        985|   Guest, Mr. Robert|  male| 7.7958|      376563|   8.05| null|\n|     3|    0|    0|       Q|        994|  Foley, Mr. William|  male| 7.7958|      365235|   7.75| null|\n|     3|    0|    0|       Q|        999|    Ryan, Mr. Edward|  male| 7.7958|      383162|   7.75| null|\n+------+-----+-----+--------+-----------+--------------------+------+-------+------------+-------+-----+\nonly showing top 20 rows\n\n"
     ]
    }
   ],
   "source": [
    "# Join the original DataFrame with the median values\n",
    "df_train_joined = df_train.join(train_medians, on=group, how=\"left\")\n",
    "df_test_joined = df_test.join(test_medians, on=group, how=\"left\")\n",
    "\n",
    "# Create a flag column to mark rows where 'Fare' was originally null\n",
    "df_train_flagged = df_train_joined.withColumn(\"Age_Replaced\", when(col(\"Age\").isNull(), 1).otherwise(0))\n",
    "df_test_flagged = df_test_joined.withColumn(\"Age_Replaced\", when(col(\"Age\").isNull(), 1).otherwise(0))\n",
    "\n",
    "# Fill null values in 'Fare' column using the median values\n",
    "df_train = df_train_flagged.withColumn(\"Age\", coalesce(col(\"Age\"), col(\"Age_Median\"))).drop(\"Age_Median\",'Age_Replaced')\n",
    "df_test = df_test_flagged.withColumn(\"Age\", coalesce(col(\"Age\"), col(\"Age_Median\"))).drop(\"Age_Median\", 'Age_Replaced')\n",
    "\n",
    "# Filter and show the rows where 'Fare' was replaced\n",
    "print(\"Rows where 'Age' was replaced in Train Data:\")\n",
    "df_train_replaced = df_train.filter(col(\"Age_replaced\") == 1)\n",
    "df_train_replaced.show()\n",
    "\n",
    "print(\"Rows where 'Age' was replaced in Test Data:\")\n",
    "df_test_replaced = df_test.filter(col(\"Age_replaced\") == 1)\n",
    "df_test_replaced.show()"
   ]
  },
  {
   "cell_type": "code",
   "execution_count": 0,
   "metadata": {
    "application/vnd.databricks.v1+cell": {
     "cellMetadata": {
      "byteLimit": 2048000,
      "rowLimit": 10000
     },
     "inputWidgets": {},
     "nuid": "1ce65f86-850a-4c04-8219-1ad2c2ba367c",
     "showTitle": false,
     "title": ""
    }
   },
   "outputs": [
    {
     "output_type": "stream",
     "name": "stdout",
     "output_type": "stream",
     "text": [
      "Null Counts in Train Data:\n+------+-----+-----+-----------+--------+----+---+---+------+----+-----+--------+\n|Pclass|SibSp|Parch|PassengerId|Survived|Name|Sex|Age|Ticket|Fare|Cabin|Embarked|\n+------+-----+-----+-----------+--------+----+---+---+------+----+-----+--------+\n|     0|    0|    0|          0|       0|   0|  0|  0|     0|   0|  687|       0|\n+------+-----+-----+-----------+--------+----+---+---+------+----+-----+--------+\n\nNull Counts in Test Data:\n+------+-----+-----+--------+-----------+----+---+---+------+----+-----+\n|Pclass|SibSp|Parch|Embarked|PassengerId|Name|Sex|Age|Ticket|Fare|Cabin|\n+------+-----+-----+--------+-----------+----+---+---+------+----+-----+\n|     0|    0|    0|       0|          0|   0|  0|  0|     0|   0|  327|\n+------+-----+-----+--------+-----------+----+---+---+------+----+-----+\n\n"
     ]
    }
   ],
   "source": [
    "# Again, count the number of null values in each column, check whether the above processing have been applied successfully\n",
    "train_null_counts = df_train.select([count(when(isnull(c), c)).alias(c) for c in df_train.columns])\n",
    "test_null_counts = df_test.select([count(when(isnull(c), c)).alias(c) for c in df_test.columns])\n",
    "\n",
    "# Show the count of null values\n",
    "print('Null Counts in Train Data:')\n",
    "train_null_counts.show()\n",
    "\n",
    "print('Null Counts in Test Data:')\n",
    "test_null_counts.show()"
   ]
  },
  {
   "cell_type": "markdown",
   "metadata": {
    "application/vnd.databricks.v1+cell": {
     "cellMetadata": {
      "byteLimit": 2048000,
      "rowLimit": 10000
     },
     "inputWidgets": {},
     "nuid": "23e8480c-0fdd-4951-928c-edfa358bd71d",
     "showTitle": false,
     "title": ""
    }
   },
   "source": [
    "# Step 3 - Adding Labels and Features"
   ]
  },
  {
   "cell_type": "code",
   "execution_count": 0,
   "metadata": {
    "application/vnd.databricks.v1+cell": {
     "cellMetadata": {
      "byteLimit": 2048000,
      "rowLimit": 10000
     },
     "inputWidgets": {},
     "nuid": "9d536358-1fb0-4e8b-9ef3-f1fccb5f8c13",
     "showTitle": false,
     "title": ""
    }
   },
   "outputs": [
    {
     "output_type": "stream",
     "name": "stdout",
     "output_type": "stream",
     "text": [
      "Train Data after adding 'Sex_Indexed' and 'Embarked_Indexed':\n+------+--------+-----------+----------------+\n|   Sex|Embarked|Sex_Indexed|Embarked_Indexed|\n+------+--------+-----------+----------------+\n|  male|       S|        0.0|             0.0|\n|female|       C|        1.0|             1.0|\n|female|       S|        1.0|             0.0|\n|female|       S|        1.0|             0.0|\n|  male|       S|        0.0|             0.0|\n+------+--------+-----------+----------------+\nonly showing top 5 rows\n\nTest Data after adding 'Sex_Indexed' and 'Embarked_Indexed':\n+------+--------+-----------+----------------+\n|   Sex|Embarked|Sex_Indexed|Embarked_Indexed|\n+------+--------+-----------+----------------+\n|  male|       Q|        0.0|             2.0|\n|female|       S|        1.0|             0.0|\n|  male|       Q|        0.0|             2.0|\n|  male|       S|        0.0|             0.0|\n|female|       S|        1.0|             0.0|\n+------+--------+-----------+----------------+\nonly showing top 5 rows\n\n"
     ]
    }
   ],
   "source": [
    "from pyspark.ml.feature import StringIndexer\n",
    "\n",
    "# Define the columns to index and their corresponding indexed column names\n",
    "index_columns = {'Sex': 'Sex_Indexed', 'Embarked': 'Embarked_Indexed'}\n",
    "\n",
    "# Create StringIndexer instances for both train and test data\n",
    "train_indexers = [StringIndexer(inputCol=col, outputCol=index_columns[col]).fit(df_train) for col in index_columns]\n",
    "test_indexers = [StringIndexer(inputCol=col, outputCol=index_columns[col]).fit(df_test) for col in index_columns]\n",
    "\n",
    "# Transform the dataframes using the indexers\n",
    "df_train = df_train\n",
    "for indexer in train_indexers:\n",
    "    df_train = indexer.transform(df_train)\n",
    "\n",
    "df_test = df_test\n",
    "for indexer in test_indexers:\n",
    "    df_test = indexer.transform(df_test)\n",
    "\n",
    "# Show the transformed data\n",
    "print(\"Train Data after adding 'Sex_Indexed' and 'Embarked_Indexed':\")\n",
    "df_train.select('Sex', 'Embarked', 'Sex_Indexed', 'Embarked_Indexed').show(5)\n",
    "\n",
    "print(\"Test Data after adding 'Sex_Indexed' and 'Embarked_Indexed':\")\n",
    "df_test.select('Sex', 'Embarked', 'Sex_Indexed', 'Embarked_Indexed').show(5)"
   ]
  },
  {
   "cell_type": "code",
   "execution_count": 0,
   "metadata": {
    "application/vnd.databricks.v1+cell": {
     "cellMetadata": {
      "byteLimit": 2048000,
      "rowLimit": 10000
     },
     "inputWidgets": {},
     "nuid": "b296e191-d906-4276-8978-53794b173cfd",
     "showTitle": false,
     "title": ""
    }
   },
   "outputs": [
    {
     "output_type": "stream",
     "name": "stdout",
     "output_type": "stream",
     "text": [
      "Train Data after adding 'FamilySize':\n+-----+-----+----------+\n|SibSp|Parch|FamilySize|\n+-----+-----+----------+\n|    1|    0|         2|\n|    1|    0|         2|\n|    0|    0|         1|\n|    1|    0|         2|\n|    0|    0|         1|\n+-----+-----+----------+\nonly showing top 5 rows\n\nTest Data after adding 'FamilySize':\n+-----+-----+----------+\n|SibSp|Parch|FamilySize|\n+-----+-----+----------+\n|    0|    0|         1|\n|    1|    0|         2|\n|    0|    0|         1|\n|    0|    0|         1|\n|    1|    1|         3|\n+-----+-----+----------+\nonly showing top 5 rows\n\n"
     ]
    }
   ],
   "source": [
    "# Add the 'FamilySize' column to df_train\n",
    "df_train = df_train.withColumn(\"FamilySize\", col(\"SibSp\") + col(\"Parch\") + 1)\n",
    "\n",
    "# Add the 'FamilySize' column to df_test\n",
    "df_test = df_test.withColumn(\"FamilySize\", col(\"SibSp\") + col(\"Parch\") + 1)\n",
    "\n",
    "# Show the df_train DataFrame after adding 'FamilySize'\n",
    "print(\"Train Data after adding 'FamilySize':\")\n",
    "df_train.select('SibSp', 'Parch', 'FamilySize').show(5)\n",
    "\n",
    "# Show the df_test DataFrame after adding 'FamilySize'\n",
    "print(\"Test Data after adding 'FamilySize':\")\n",
    "df_test.select('SibSp', 'Parch', 'FamilySize').show(5)"
   ]
  },
  {
   "cell_type": "code",
   "execution_count": 0,
   "metadata": {
    "application/vnd.databricks.v1+cell": {
     "cellMetadata": {
      "byteLimit": 2048000,
      "rowLimit": 10000
     },
     "inputWidgets": {},
     "nuid": "9b54bd60-4dbe-4c6f-b50a-f3cf26e5b44b",
     "showTitle": false,
     "title": ""
    }
   },
   "outputs": [
    {
     "output_type": "stream",
     "name": "stdout",
     "output_type": "stream",
     "text": [
      "Train Data after adding 'Independent_Features':\n+------------------------------+\n|Independent_Features          |\n+------------------------------+\n|[3.0,0.0,22.0,7.25,2.0,0.0]   |\n|[1.0,1.0,38.0,71.2833,2.0,1.0]|\n|[3.0,1.0,26.0,7.925,1.0,0.0]  |\n|[1.0,1.0,35.0,53.1,2.0,0.0]   |\n|[3.0,0.0,35.0,8.05,1.0,0.0]   |\n+------------------------------+\nonly showing top 5 rows\n\nTest Data after adding 'Independent_Features':\n+------------------------------+\n|Independent_Features          |\n+------------------------------+\n|[3.0,0.0,34.5,7.8292,1.0,2.0] |\n|[3.0,1.0,47.0,7.0,2.0,0.0]    |\n|[2.0,0.0,62.0,9.6875,1.0,2.0] |\n|[3.0,0.0,27.0,8.6625,1.0,0.0] |\n|[3.0,1.0,22.0,12.2875,3.0,0.0]|\n+------------------------------+\nonly showing top 5 rows\n\n"
     ]
    }
   ],
   "source": [
    "from pyspark.ml.feature import VectorAssembler\n",
    "\n",
    "# Define the feature columns\n",
    "feature_cols = ['Pclass', 'Sex_Indexed', 'Age', 'Fare', 'FamilySize', 'Embarked_Indexed']\n",
    "\n",
    "# Create VectorAssembler instances for both train and test data\n",
    "train_feature_assembler = VectorAssembler(inputCols=feature_cols, outputCol='Independent_Features')\n",
    "df_train = train_feature_assembler.transform(df_train)\n",
    "\n",
    "test_feature_assembler = VectorAssembler(inputCols=feature_cols, outputCol='Independent_Features')\n",
    "df_test = test_feature_assembler.transform(df_test)\n",
    "\n",
    "# Show the transformed data\n",
    "print(\"Train Data after adding 'Independent_Features':\")\n",
    "df_train.select('Independent_Features').show(5, truncate=False)\n",
    "\n",
    "print(\"Test Data after adding 'Independent_Features':\")\n",
    "df_test.select('Independent_Features').show(5, truncate=False)\n"
   ]
  },
  {
   "cell_type": "code",
   "execution_count": 0,
   "metadata": {
    "application/vnd.databricks.v1+cell": {
     "cellMetadata": {
      "byteLimit": 2048000,
      "rowLimit": 10000
     },
     "inputWidgets": {},
     "nuid": "f41f7704-0021-4e9e-a8e0-90edb8272236",
     "showTitle": false,
     "title": ""
    }
   },
   "outputs": [
    {
     "output_type": "stream",
     "name": "stdout",
     "output_type": "stream",
     "text": [
      "Train Data:\n+------+-----+-----+-----------+--------+---------------------------------------------------+------+----+----------------+-------+-----+--------+-----------+----------------+----------+------------------------------+\n|Pclass|SibSp|Parch|PassengerId|Survived|Name                                               |Sex   |Age |Ticket          |Fare   |Cabin|Embarked|Sex_Indexed|Embarked_Indexed|FamilySize|Independent_Features          |\n+------+-----+-----+-----------+--------+---------------------------------------------------+------+----+----------------+-------+-----+--------+-----------+----------------+----------+------------------------------+\n|3     |1    |0    |1          |0       |Braund, Mr. Owen Harris                            |male  |22.0|A/5 21171       |7.25   |null |S       |0.0        |0.0             |2         |[3.0,0.0,22.0,7.25,2.0,0.0]   |\n|1     |1    |0    |2          |1       |Cumings, Mrs. John Bradley (Florence Briggs Thayer)|female|38.0|PC 17599        |71.2833|C85  |C       |1.0        |1.0             |2         |[1.0,1.0,38.0,71.2833,2.0,1.0]|\n|3     |0    |0    |3          |1       |Heikkinen, Miss. Laina                             |female|26.0|STON/O2. 3101282|7.925  |null |S       |1.0        |0.0             |1         |[3.0,1.0,26.0,7.925,1.0,0.0]  |\n|1     |1    |0    |4          |1       |Futrelle, Mrs. Jacques Heath (Lily May Peel)       |female|35.0|113803          |53.1   |C123 |S       |1.0        |0.0             |2         |[1.0,1.0,35.0,53.1,2.0,0.0]   |\n|3     |0    |0    |5          |0       |Allen, Mr. William Henry                           |male  |35.0|373450          |8.05   |null |S       |0.0        |0.0             |1         |[3.0,0.0,35.0,8.05,1.0,0.0]   |\n+------+-----+-----+-----------+--------+---------------------------------------------------+------+----+----------------+-------+-----+--------+-----------+----------------+----------+------------------------------+\nonly showing top 5 rows\n\nTest Data:\n+------+-----+-----+--------+-----------+--------------------------------------------+------+----+-------+-------+-----+-----------+----------------+----------+------------------------------+\n|Pclass|SibSp|Parch|Embarked|PassengerId|Name                                        |Sex   |Age |Ticket |Fare   |Cabin|Sex_Indexed|Embarked_Indexed|FamilySize|Independent_Features          |\n+------+-----+-----+--------+-----------+--------------------------------------------+------+----+-------+-------+-----+-----------+----------------+----------+------------------------------+\n|3     |0    |0    |Q       |892        |Kelly, Mr. James                            |male  |34.5|330911 |7.8292 |null |0.0        |2.0             |1         |[3.0,0.0,34.5,7.8292,1.0,2.0] |\n|3     |1    |0    |S       |893        |Wilkes, Mrs. James (Ellen Needs)            |female|47.0|363272 |7.0    |null |1.0        |0.0             |2         |[3.0,1.0,47.0,7.0,2.0,0.0]    |\n|2     |0    |0    |Q       |894        |Myles, Mr. Thomas Francis                   |male  |62.0|240276 |9.6875 |null |0.0        |2.0             |1         |[2.0,0.0,62.0,9.6875,1.0,2.0] |\n|3     |0    |0    |S       |895        |Wirz, Mr. Albert                            |male  |27.0|315154 |8.6625 |null |0.0        |0.0             |1         |[3.0,0.0,27.0,8.6625,1.0,0.0] |\n|3     |1    |1    |S       |896        |Hirvonen, Mrs. Alexander (Helga E Lindqvist)|female|22.0|3101298|12.2875|null |1.0        |0.0             |3         |[3.0,1.0,22.0,12.2875,3.0,0.0]|\n+------+-----+-----+--------+-----------+--------------------------------------------+------+----+-------+-------+-----+-----------+----------------+----------+------------------------------+\nonly showing top 5 rows\n\n"
     ]
    }
   ],
   "source": [
    "# show the data after data cleaning\n",
    "print('Train Data:')\n",
    "df_train.show(5, truncate=False)\n",
    "\n",
    "print('Test Data:')\n",
    "df_test.show(5, truncate=False)"
   ]
  },
  {
   "cell_type": "markdown",
   "metadata": {
    "application/vnd.databricks.v1+cell": {
     "cellMetadata": {
      "byteLimit": 2048000,
      "rowLimit": 10000
     },
     "inputWidgets": {},
     "nuid": "0f84b804-37ae-42dc-8810-8acbfe62015b",
     "showTitle": false,
     "title": ""
    }
   },
   "source": [
    "# Step 4 - Prepare for Submission"
   ]
  },
  {
   "cell_type": "code",
   "execution_count": 0,
   "metadata": {
    "application/vnd.databricks.v1+cell": {
     "cellMetadata": {
      "byteLimit": 2048000,
      "rowLimit": 10000
     },
     "inputWidgets": {},
     "nuid": "5d5360aa-ef04-4809-ba3b-cf912b811640",
     "showTitle": false,
     "title": ""
    }
   },
   "outputs": [],
   "source": [
    "# Select the label and features columns\n",
    "train_data = df_train.select(col(\"Independent_Features\").alias('features'), col(\"Survived\").alias(\"label\"))\n",
    "test_data = df_test.select(col(\"Independent_Features\").alias('features'), \"PassengerId\")"
   ]
  },
  {
   "cell_type": "code",
   "execution_count": 0,
   "metadata": {
    "application/vnd.databricks.v1+cell": {
     "cellMetadata": {
      "byteLimit": 2048000,
      "rowLimit": 10000
     },
     "inputWidgets": {},
     "nuid": "a9350813-d6c2-42aa-8618-4253598d11a6",
     "showTitle": false,
     "title": ""
    }
   },
   "outputs": [],
   "source": [
    "# Train RandomForest model\n",
    "rf = RandomForestClassifier(numTrees=100, seed=45)\n",
    "model = rf.fit(train_data)"
   ]
  },
  {
   "cell_type": "code",
   "execution_count": 0,
   "metadata": {
    "application/vnd.databricks.v1+cell": {
     "cellMetadata": {
      "byteLimit": 2048000,
      "rowLimit": 10000
     },
     "inputWidgets": {},
     "nuid": "d79b6179-4cc0-4256-b605-7a4c0dec5f30",
     "showTitle": false,
     "title": ""
    }
   },
   "outputs": [
    {
     "output_type": "display_data",
     "data": {
      "text/html": [
       "<style scoped>\n",
       "  .table-result-container {\n",
       "    max-height: 300px;\n",
       "    overflow: auto;\n",
       "  }\n",
       "  table, th, td {\n",
       "    border: 1px solid black;\n",
       "    border-collapse: collapse;\n",
       "  }\n",
       "  th, td {\n",
       "    padding: 5px;\n",
       "  }\n",
       "  th {\n",
       "    text-align: left;\n",
       "  }\n",
       "</style><div class='table-result-container'><table class='table-result'><thead style='background-color: white'><tr><th>PassengerId</th><th>Survived</th></tr></thead><tbody><tr><td>892</td><td>0.0</td></tr><tr><td>893</td><td>0.0</td></tr><tr><td>894</td><td>0.0</td></tr><tr><td>895</td><td>0.0</td></tr><tr><td>896</td><td>1.0</td></tr><tr><td>897</td><td>0.0</td></tr><tr><td>898</td><td>0.0</td></tr><tr><td>899</td><td>0.0</td></tr><tr><td>900</td><td>1.0</td></tr><tr><td>901</td><td>0.0</td></tr><tr><td>902</td><td>0.0</td></tr><tr><td>903</td><td>0.0</td></tr><tr><td>904</td><td>1.0</td></tr><tr><td>905</td><td>0.0</td></tr><tr><td>906</td><td>1.0</td></tr><tr><td>907</td><td>1.0</td></tr><tr><td>908</td><td>0.0</td></tr><tr><td>909</td><td>0.0</td></tr><tr><td>910</td><td>0.0</td></tr><tr><td>911</td><td>0.0</td></tr><tr><td>912</td><td>0.0</td></tr><tr><td>913</td><td>0.0</td></tr><tr><td>914</td><td>1.0</td></tr><tr><td>915</td><td>0.0</td></tr><tr><td>916</td><td>1.0</td></tr><tr><td>917</td><td>0.0</td></tr><tr><td>918</td><td>1.0</td></tr><tr><td>919</td><td>0.0</td></tr><tr><td>920</td><td>0.0</td></tr><tr><td>921</td><td>0.0</td></tr><tr><td>922</td><td>0.0</td></tr><tr><td>923</td><td>0.0</td></tr><tr><td>924</td><td>1.0</td></tr><tr><td>925</td><td>1.0</td></tr><tr><td>926</td><td>0.0</td></tr><tr><td>927</td><td>0.0</td></tr><tr><td>928</td><td>0.0</td></tr><tr><td>929</td><td>0.0</td></tr><tr><td>930</td><td>0.0</td></tr><tr><td>931</td><td>0.0</td></tr><tr><td>932</td><td>0.0</td></tr><tr><td>933</td><td>0.0</td></tr><tr><td>934</td><td>0.0</td></tr><tr><td>935</td><td>1.0</td></tr><tr><td>936</td><td>1.0</td></tr><tr><td>937</td><td>0.0</td></tr><tr><td>938</td><td>0.0</td></tr><tr><td>939</td><td>0.0</td></tr><tr><td>940</td><td>1.0</td></tr><tr><td>941</td><td>0.0</td></tr><tr><td>942</td><td>0.0</td></tr><tr><td>943</td><td>0.0</td></tr><tr><td>944</td><td>1.0</td></tr><tr><td>945</td><td>1.0</td></tr><tr><td>946</td><td>0.0</td></tr><tr><td>947</td><td>0.0</td></tr><tr><td>948</td><td>0.0</td></tr><tr><td>949</td><td>0.0</td></tr><tr><td>950</td><td>0.0</td></tr><tr><td>951</td><td>1.0</td></tr><tr><td>952</td><td>0.0</td></tr><tr><td>953</td><td>0.0</td></tr><tr><td>954</td><td>0.0</td></tr><tr><td>955</td><td>1.0</td></tr><tr><td>956</td><td>0.0</td></tr><tr><td>957</td><td>1.0</td></tr><tr><td>958</td><td>1.0</td></tr><tr><td>959</td><td>0.0</td></tr><tr><td>960</td><td>0.0</td></tr><tr><td>961</td><td>1.0</td></tr><tr><td>962</td><td>1.0</td></tr><tr><td>963</td><td>0.0</td></tr><tr><td>964</td><td>0.0</td></tr><tr><td>965</td><td>0.0</td></tr><tr><td>966</td><td>1.0</td></tr><tr><td>967</td><td>0.0</td></tr><tr><td>968</td><td>0.0</td></tr><tr><td>969</td><td>1.0</td></tr><tr><td>970</td><td>0.0</td></tr><tr><td>971</td><td>1.0</td></tr><tr><td>972</td><td>0.0</td></tr><tr><td>973</td><td>0.0</td></tr><tr><td>974</td><td>0.0</td></tr><tr><td>975</td><td>0.0</td></tr><tr><td>976</td><td>0.0</td></tr><tr><td>977</td><td>0.0</td></tr><tr><td>978</td><td>1.0</td></tr><tr><td>979</td><td>0.0</td></tr><tr><td>980</td><td>1.0</td></tr><tr><td>981</td><td>1.0</td></tr><tr><td>982</td><td>0.0</td></tr><tr><td>983</td><td>0.0</td></tr><tr><td>984</td><td>1.0</td></tr><tr><td>985</td><td>0.0</td></tr><tr><td>986</td><td>0.0</td></tr><tr><td>987</td><td>0.0</td></tr><tr><td>988</td><td>1.0</td></tr><tr><td>989</td><td>0.0</td></tr><tr><td>990</td><td>1.0</td></tr><tr><td>991</td><td>0.0</td></tr><tr><td>992</td><td>1.0</td></tr><tr><td>993</td><td>0.0</td></tr><tr><td>994</td><td>0.0</td></tr><tr><td>995</td><td>0.0</td></tr><tr><td>996</td><td>1.0</td></tr><tr><td>997</td><td>0.0</td></tr><tr><td>998</td><td>0.0</td></tr><tr><td>999</td><td>0.0</td></tr><tr><td>1000</td><td>0.0</td></tr><tr><td>1001</td><td>0.0</td></tr><tr><td>1002</td><td>0.0</td></tr><tr><td>1003</td><td>1.0</td></tr><tr><td>1004</td><td>1.0</td></tr><tr><td>1005</td><td>1.0</td></tr><tr><td>1006</td><td>1.0</td></tr><tr><td>1007</td><td>0.0</td></tr><tr><td>1008</td><td>0.0</td></tr><tr><td>1009</td><td>1.0</td></tr><tr><td>1010</td><td>0.0</td></tr><tr><td>1011</td><td>1.0</td></tr><tr><td>1012</td><td>1.0</td></tr><tr><td>1013</td><td>0.0</td></tr><tr><td>1014</td><td>1.0</td></tr><tr><td>1015</td><td>0.0</td></tr><tr><td>1016</td><td>0.0</td></tr><tr><td>1017</td><td>1.0</td></tr><tr><td>1018</td><td>0.0</td></tr><tr><td>1019</td><td>1.0</td></tr><tr><td>1020</td><td>0.0</td></tr><tr><td>1021</td><td>0.0</td></tr><tr><td>1022</td><td>0.0</td></tr><tr><td>1023</td><td>0.0</td></tr><tr><td>1024</td><td>0.0</td></tr><tr><td>1025</td><td>0.0</td></tr><tr><td>1026</td><td>0.0</td></tr><tr><td>1027</td><td>0.0</td></tr><tr><td>1028</td><td>0.0</td></tr><tr><td>1029</td><td>0.0</td></tr><tr><td>1030</td><td>0.0</td></tr><tr><td>1031</td><td>0.0</td></tr><tr><td>1032</td><td>0.0</td></tr><tr><td>1033</td><td>1.0</td></tr><tr><td>1034</td><td>0.0</td></tr><tr><td>1035</td><td>0.0</td></tr><tr><td>1036</td><td>0.0</td></tr><tr><td>1037</td><td>0.0</td></tr><tr><td>1038</td><td>0.0</td></tr><tr><td>1039</td><td>0.0</td></tr><tr><td>1040</td><td>0.0</td></tr><tr><td>1041</td><td>0.0</td></tr><tr><td>1042</td><td>1.0</td></tr><tr><td>1043</td><td>0.0</td></tr><tr><td>1044</td><td>0.0</td></tr><tr><td>1045</td><td>0.0</td></tr><tr><td>1046</td><td>0.0</td></tr><tr><td>1047</td><td>0.0</td></tr><tr><td>1048</td><td>1.0</td></tr><tr><td>1049</td><td>0.0</td></tr><tr><td>1050</td><td>0.0</td></tr><tr><td>1051</td><td>1.0</td></tr><tr><td>1052</td><td>1.0</td></tr><tr><td>1053</td><td>0.0</td></tr><tr><td>1054</td><td>1.0</td></tr><tr><td>1055</td><td>0.0</td></tr><tr><td>1056</td><td>0.0</td></tr><tr><td>1057</td><td>1.0</td></tr><tr><td>1058</td><td>0.0</td></tr><tr><td>1059</td><td>0.0</td></tr><tr><td>1060</td><td>1.0</td></tr><tr><td>1061</td><td>0.0</td></tr><tr><td>1062</td><td>0.0</td></tr><tr><td>1063</td><td>0.0</td></tr><tr><td>1064</td><td>0.0</td></tr><tr><td>1065</td><td>0.0</td></tr><tr><td>1066</td><td>0.0</td></tr><tr><td>1067</td><td>1.0</td></tr><tr><td>1068</td><td>1.0</td></tr><tr><td>1069</td><td>0.0</td></tr><tr><td>1070</td><td>1.0</td></tr><tr><td>1071</td><td>1.0</td></tr><tr><td>1072</td><td>0.0</td></tr><tr><td>1073</td><td>0.0</td></tr><tr><td>1074</td><td>1.0</td></tr><tr><td>1075</td><td>0.0</td></tr><tr><td>1076</td><td>1.0</td></tr><tr><td>1077</td><td>0.0</td></tr><tr><td>1078</td><td>1.0</td></tr><tr><td>1079</td><td>0.0</td></tr><tr><td>1080</td><td>0.0</td></tr><tr><td>1081</td><td>0.0</td></tr><tr><td>1082</td><td>0.0</td></tr><tr><td>1083</td><td>0.0</td></tr><tr><td>1084</td><td>0.0</td></tr><tr><td>1085</td><td>0.0</td></tr><tr><td>1086</td><td>1.0</td></tr><tr><td>1087</td><td>0.0</td></tr><tr><td>1088</td><td>1.0</td></tr><tr><td>1089</td><td>1.0</td></tr><tr><td>1090</td><td>0.0</td></tr><tr><td>1091</td><td>1.0</td></tr><tr><td>1092</td><td>1.0</td></tr><tr><td>1093</td><td>1.0</td></tr><tr><td>1094</td><td>0.0</td></tr><tr><td>1095</td><td>1.0</td></tr><tr><td>1096</td><td>0.0</td></tr><tr><td>1097</td><td>0.0</td></tr><tr><td>1098</td><td>0.0</td></tr><tr><td>1099</td><td>0.0</td></tr><tr><td>1100</td><td>1.0</td></tr><tr><td>1101</td><td>0.0</td></tr><tr><td>1102</td><td>0.0</td></tr><tr><td>1103</td><td>0.0</td></tr><tr><td>1104</td><td>0.0</td></tr><tr><td>1105</td><td>1.0</td></tr><tr><td>1106</td><td>0.0</td></tr><tr><td>1107</td><td>0.0</td></tr><tr><td>1108</td><td>1.0</td></tr><tr><td>1109</td><td>0.0</td></tr><tr><td>1110</td><td>1.0</td></tr><tr><td>1111</td><td>0.0</td></tr><tr><td>1112</td><td>1.0</td></tr><tr><td>1113</td><td>0.0</td></tr><tr><td>1114</td><td>1.0</td></tr><tr><td>1115</td><td>0.0</td></tr><tr><td>1116</td><td>1.0</td></tr><tr><td>1117</td><td>1.0</td></tr><tr><td>1118</td><td>0.0</td></tr><tr><td>1119</td><td>1.0</td></tr><tr><td>1120</td><td>0.0</td></tr><tr><td>1121</td><td>0.0</td></tr><tr><td>1122</td><td>0.0</td></tr><tr><td>1123</td><td>1.0</td></tr><tr><td>1124</td><td>0.0</td></tr><tr><td>1125</td><td>0.0</td></tr><tr><td>1126</td><td>0.0</td></tr><tr><td>1127</td><td>0.0</td></tr><tr><td>1128</td><td>0.0</td></tr><tr><td>1129</td><td>0.0</td></tr><tr><td>1130</td><td>1.0</td></tr><tr><td>1131</td><td>1.0</td></tr><tr><td>1132</td><td>1.0</td></tr><tr><td>1133</td><td>1.0</td></tr><tr><td>1134</td><td>0.0</td></tr><tr><td>1135</td><td>0.0</td></tr><tr><td>1136</td><td>0.0</td></tr><tr><td>1137</td><td>0.0</td></tr><tr><td>1138</td><td>1.0</td></tr><tr><td>1139</td><td>0.0</td></tr><tr><td>1140</td><td>1.0</td></tr><tr><td>1141</td><td>1.0</td></tr><tr><td>1142</td><td>1.0</td></tr><tr><td>1143</td><td>0.0</td></tr><tr><td>1144</td><td>0.0</td></tr><tr><td>1145</td><td>0.0</td></tr><tr><td>1146</td><td>0.0</td></tr><tr><td>1147</td><td>0.0</td></tr><tr><td>1148</td><td>0.0</td></tr><tr><td>1149</td><td>0.0</td></tr><tr><td>1150</td><td>1.0</td></tr><tr><td>1151</td><td>0.0</td></tr><tr><td>1152</td><td>0.0</td></tr><tr><td>1153</td><td>0.0</td></tr><tr><td>1154</td><td>1.0</td></tr><tr><td>1155</td><td>1.0</td></tr><tr><td>1156</td><td>0.0</td></tr><tr><td>1157</td><td>0.0</td></tr><tr><td>1158</td><td>0.0</td></tr><tr><td>1159</td><td>0.0</td></tr><tr><td>1160</td><td>0.0</td></tr><tr><td>1161</td><td>0.0</td></tr><tr><td>1162</td><td>0.0</td></tr><tr><td>1163</td><td>0.0</td></tr><tr><td>1164</td><td>1.0</td></tr><tr><td>1165</td><td>1.0</td></tr><tr><td>1166</td><td>0.0</td></tr><tr><td>1167</td><td>1.0</td></tr><tr><td>1168</td><td>0.0</td></tr><tr><td>1169</td><td>0.0</td></tr><tr><td>1170</td><td>0.0</td></tr><tr><td>1171</td><td>0.0</td></tr><tr><td>1172</td><td>0.0</td></tr><tr><td>1173</td><td>1.0</td></tr><tr><td>1174</td><td>1.0</td></tr><tr><td>1175</td><td>1.0</td></tr><tr><td>1176</td><td>1.0</td></tr><tr><td>1177</td><td>0.0</td></tr><tr><td>1178</td><td>0.0</td></tr><tr><td>1179</td><td>0.0</td></tr><tr><td>1180</td><td>0.0</td></tr><tr><td>1181</td><td>0.0</td></tr><tr><td>1182</td><td>0.0</td></tr><tr><td>1183</td><td>0.0</td></tr><tr><td>1184</td><td>0.0</td></tr><tr><td>1185</td><td>0.0</td></tr><tr><td>1186</td><td>0.0</td></tr><tr><td>1187</td><td>0.0</td></tr><tr><td>1188</td><td>1.0</td></tr><tr><td>1189</td><td>0.0</td></tr><tr><td>1190</td><td>0.0</td></tr><tr><td>1191</td><td>0.0</td></tr><tr><td>1192</td><td>0.0</td></tr><tr><td>1193</td><td>0.0</td></tr><tr><td>1194</td><td>0.0</td></tr><tr><td>1195</td><td>0.0</td></tr><tr><td>1196</td><td>1.0</td></tr><tr><td>1197</td><td>1.0</td></tr><tr><td>1198</td><td>0.0</td></tr><tr><td>1199</td><td>1.0</td></tr><tr><td>1200</td><td>0.0</td></tr><tr><td>1201</td><td>0.0</td></tr><tr><td>1202</td><td>0.0</td></tr><tr><td>1203</td><td>0.0</td></tr><tr><td>1204</td><td>0.0</td></tr><tr><td>1205</td><td>0.0</td></tr><tr><td>1206</td><td>1.0</td></tr><tr><td>1207</td><td>1.0</td></tr><tr><td>1208</td><td>0.0</td></tr><tr><td>1209</td><td>0.0</td></tr><tr><td>1210</td><td>0.0</td></tr><tr><td>1211</td><td>0.0</td></tr><tr><td>1212</td><td>0.0</td></tr><tr><td>1213</td><td>0.0</td></tr><tr><td>1214</td><td>0.0</td></tr><tr><td>1215</td><td>0.0</td></tr><tr><td>1216</td><td>1.0</td></tr><tr><td>1217</td><td>0.0</td></tr><tr><td>1218</td><td>1.0</td></tr><tr><td>1219</td><td>0.0</td></tr><tr><td>1220</td><td>0.0</td></tr><tr><td>1221</td><td>0.0</td></tr><tr><td>1222</td><td>1.0</td></tr><tr><td>1223</td><td>0.0</td></tr><tr><td>1224</td><td>0.0</td></tr><tr><td>1225</td><td>1.0</td></tr><tr><td>1226</td><td>0.0</td></tr><tr><td>1227</td><td>0.0</td></tr><tr><td>1228</td><td>0.0</td></tr><tr><td>1229</td><td>0.0</td></tr><tr><td>1230</td><td>0.0</td></tr><tr><td>1231</td><td>0.0</td></tr><tr><td>1232</td><td>0.0</td></tr><tr><td>1233</td><td>0.0</td></tr><tr><td>1234</td><td>0.0</td></tr><tr><td>1235</td><td>1.0</td></tr><tr><td>1236</td><td>0.0</td></tr><tr><td>1237</td><td>1.0</td></tr><tr><td>1238</td><td>0.0</td></tr><tr><td>1239</td><td>0.0</td></tr><tr><td>1240</td><td>0.0</td></tr><tr><td>1241</td><td>1.0</td></tr><tr><td>1242</td><td>1.0</td></tr><tr><td>1243</td><td>0.0</td></tr><tr><td>1244</td><td>0.0</td></tr><tr><td>1245</td><td>0.0</td></tr><tr><td>1246</td><td>1.0</td></tr><tr><td>1247</td><td>0.0</td></tr><tr><td>1248</td><td>1.0</td></tr><tr><td>1249</td><td>0.0</td></tr><tr><td>1250</td><td>0.0</td></tr><tr><td>1251</td><td>0.0</td></tr><tr><td>1252</td><td>0.0</td></tr><tr><td>1253</td><td>1.0</td></tr><tr><td>1254</td><td>1.0</td></tr><tr><td>1255</td><td>0.0</td></tr><tr><td>1256</td><td>1.0</td></tr><tr><td>1257</td><td>0.0</td></tr><tr><td>1258</td><td>0.0</td></tr><tr><td>1259</td><td>0.0</td></tr><tr><td>1260</td><td>1.0</td></tr><tr><td>1261</td><td>0.0</td></tr><tr><td>1262</td><td>0.0</td></tr><tr><td>1263</td><td>1.0</td></tr><tr><td>1264</td><td>0.0</td></tr><tr><td>1265</td><td>0.0</td></tr><tr><td>1266</td><td>1.0</td></tr><tr><td>1267</td><td>1.0</td></tr><tr><td>1268</td><td>0.0</td></tr><tr><td>1269</td><td>0.0</td></tr><tr><td>1270</td><td>0.0</td></tr><tr><td>1271</td><td>0.0</td></tr><tr><td>1272</td><td>0.0</td></tr><tr><td>1273</td><td>0.0</td></tr><tr><td>1274</td><td>1.0</td></tr><tr><td>1275</td><td>1.0</td></tr><tr><td>1276</td><td>0.0</td></tr><tr><td>1277</td><td>1.0</td></tr><tr><td>1278</td><td>0.0</td></tr><tr><td>1279</td><td>0.0</td></tr><tr><td>1280</td><td>0.0</td></tr><tr><td>1281</td><td>0.0</td></tr><tr><td>1282</td><td>0.0</td></tr><tr><td>1283</td><td>1.0</td></tr><tr><td>1284</td><td>0.0</td></tr><tr><td>1285</td><td>0.0</td></tr><tr><td>1286</td><td>0.0</td></tr><tr><td>1287</td><td>1.0</td></tr><tr><td>1288</td><td>0.0</td></tr><tr><td>1289</td><td>1.0</td></tr><tr><td>1290</td><td>0.0</td></tr><tr><td>1291</td><td>0.0</td></tr><tr><td>1292</td><td>1.0</td></tr><tr><td>1293</td><td>0.0</td></tr><tr><td>1294</td><td>1.0</td></tr><tr><td>1295</td><td>0.0</td></tr><tr><td>1296</td><td>0.0</td></tr><tr><td>1297</td><td>0.0</td></tr><tr><td>1298</td><td>0.0</td></tr><tr><td>1299</td><td>0.0</td></tr><tr><td>1300</td><td>1.0</td></tr><tr><td>1301</td><td>1.0</td></tr><tr><td>1302</td><td>1.0</td></tr><tr><td>1303</td><td>1.0</td></tr><tr><td>1304</td><td>0.0</td></tr><tr><td>1305</td><td>0.0</td></tr><tr><td>1306</td><td>1.0</td></tr><tr><td>1307</td><td>0.0</td></tr><tr><td>1308</td><td>0.0</td></tr><tr><td>1309</td><td>0.0</td></tr></tbody></table></div>"
      ]
     },
     "metadata": {
      "application/vnd.databricks.v1+output": {
       "addedWidgets": {},
       "aggData": [],
       "aggError": "",
       "aggOverflow": false,
       "aggSchema": [],
       "aggSeriesLimitReached": false,
       "aggType": "",
       "arguments": {},
       "columnCustomDisplayInfos": {},
       "data": [
        [
         892,
         0.0
        ],
        [
         893,
         0.0
        ],
        [
         894,
         0.0
        ],
        [
         895,
         0.0
        ],
        [
         896,
         1.0
        ],
        [
         897,
         0.0
        ],
        [
         898,
         0.0
        ],
        [
         899,
         0.0
        ],
        [
         900,
         1.0
        ],
        [
         901,
         0.0
        ],
        [
         902,
         0.0
        ],
        [
         903,
         0.0
        ],
        [
         904,
         1.0
        ],
        [
         905,
         0.0
        ],
        [
         906,
         1.0
        ],
        [
         907,
         1.0
        ],
        [
         908,
         0.0
        ],
        [
         909,
         0.0
        ],
        [
         910,
         0.0
        ],
        [
         911,
         0.0
        ],
        [
         912,
         0.0
        ],
        [
         913,
         0.0
        ],
        [
         914,
         1.0
        ],
        [
         915,
         0.0
        ],
        [
         916,
         1.0
        ],
        [
         917,
         0.0
        ],
        [
         918,
         1.0
        ],
        [
         919,
         0.0
        ],
        [
         920,
         0.0
        ],
        [
         921,
         0.0
        ],
        [
         922,
         0.0
        ],
        [
         923,
         0.0
        ],
        [
         924,
         1.0
        ],
        [
         925,
         1.0
        ],
        [
         926,
         0.0
        ],
        [
         927,
         0.0
        ],
        [
         928,
         0.0
        ],
        [
         929,
         0.0
        ],
        [
         930,
         0.0
        ],
        [
         931,
         0.0
        ],
        [
         932,
         0.0
        ],
        [
         933,
         0.0
        ],
        [
         934,
         0.0
        ],
        [
         935,
         1.0
        ],
        [
         936,
         1.0
        ],
        [
         937,
         0.0
        ],
        [
         938,
         0.0
        ],
        [
         939,
         0.0
        ],
        [
         940,
         1.0
        ],
        [
         941,
         0.0
        ],
        [
         942,
         0.0
        ],
        [
         943,
         0.0
        ],
        [
         944,
         1.0
        ],
        [
         945,
         1.0
        ],
        [
         946,
         0.0
        ],
        [
         947,
         0.0
        ],
        [
         948,
         0.0
        ],
        [
         949,
         0.0
        ],
        [
         950,
         0.0
        ],
        [
         951,
         1.0
        ],
        [
         952,
         0.0
        ],
        [
         953,
         0.0
        ],
        [
         954,
         0.0
        ],
        [
         955,
         1.0
        ],
        [
         956,
         0.0
        ],
        [
         957,
         1.0
        ],
        [
         958,
         1.0
        ],
        [
         959,
         0.0
        ],
        [
         960,
         0.0
        ],
        [
         961,
         1.0
        ],
        [
         962,
         1.0
        ],
        [
         963,
         0.0
        ],
        [
         964,
         0.0
        ],
        [
         965,
         0.0
        ],
        [
         966,
         1.0
        ],
        [
         967,
         0.0
        ],
        [
         968,
         0.0
        ],
        [
         969,
         1.0
        ],
        [
         970,
         0.0
        ],
        [
         971,
         1.0
        ],
        [
         972,
         0.0
        ],
        [
         973,
         0.0
        ],
        [
         974,
         0.0
        ],
        [
         975,
         0.0
        ],
        [
         976,
         0.0
        ],
        [
         977,
         0.0
        ],
        [
         978,
         1.0
        ],
        [
         979,
         0.0
        ],
        [
         980,
         1.0
        ],
        [
         981,
         1.0
        ],
        [
         982,
         0.0
        ],
        [
         983,
         0.0
        ],
        [
         984,
         1.0
        ],
        [
         985,
         0.0
        ],
        [
         986,
         0.0
        ],
        [
         987,
         0.0
        ],
        [
         988,
         1.0
        ],
        [
         989,
         0.0
        ],
        [
         990,
         1.0
        ],
        [
         991,
         0.0
        ],
        [
         992,
         1.0
        ],
        [
         993,
         0.0
        ],
        [
         994,
         0.0
        ],
        [
         995,
         0.0
        ],
        [
         996,
         1.0
        ],
        [
         997,
         0.0
        ],
        [
         998,
         0.0
        ],
        [
         999,
         0.0
        ],
        [
         1000,
         0.0
        ],
        [
         1001,
         0.0
        ],
        [
         1002,
         0.0
        ],
        [
         1003,
         1.0
        ],
        [
         1004,
         1.0
        ],
        [
         1005,
         1.0
        ],
        [
         1006,
         1.0
        ],
        [
         1007,
         0.0
        ],
        [
         1008,
         0.0
        ],
        [
         1009,
         1.0
        ],
        [
         1010,
         0.0
        ],
        [
         1011,
         1.0
        ],
        [
         1012,
         1.0
        ],
        [
         1013,
         0.0
        ],
        [
         1014,
         1.0
        ],
        [
         1015,
         0.0
        ],
        [
         1016,
         0.0
        ],
        [
         1017,
         1.0
        ],
        [
         1018,
         0.0
        ],
        [
         1019,
         1.0
        ],
        [
         1020,
         0.0
        ],
        [
         1021,
         0.0
        ],
        [
         1022,
         0.0
        ],
        [
         1023,
         0.0
        ],
        [
         1024,
         0.0
        ],
        [
         1025,
         0.0
        ],
        [
         1026,
         0.0
        ],
        [
         1027,
         0.0
        ],
        [
         1028,
         0.0
        ],
        [
         1029,
         0.0
        ],
        [
         1030,
         0.0
        ],
        [
         1031,
         0.0
        ],
        [
         1032,
         0.0
        ],
        [
         1033,
         1.0
        ],
        [
         1034,
         0.0
        ],
        [
         1035,
         0.0
        ],
        [
         1036,
         0.0
        ],
        [
         1037,
         0.0
        ],
        [
         1038,
         0.0
        ],
        [
         1039,
         0.0
        ],
        [
         1040,
         0.0
        ],
        [
         1041,
         0.0
        ],
        [
         1042,
         1.0
        ],
        [
         1043,
         0.0
        ],
        [
         1044,
         0.0
        ],
        [
         1045,
         0.0
        ],
        [
         1046,
         0.0
        ],
        [
         1047,
         0.0
        ],
        [
         1048,
         1.0
        ],
        [
         1049,
         0.0
        ],
        [
         1050,
         0.0
        ],
        [
         1051,
         1.0
        ],
        [
         1052,
         1.0
        ],
        [
         1053,
         0.0
        ],
        [
         1054,
         1.0
        ],
        [
         1055,
         0.0
        ],
        [
         1056,
         0.0
        ],
        [
         1057,
         1.0
        ],
        [
         1058,
         0.0
        ],
        [
         1059,
         0.0
        ],
        [
         1060,
         1.0
        ],
        [
         1061,
         0.0
        ],
        [
         1062,
         0.0
        ],
        [
         1063,
         0.0
        ],
        [
         1064,
         0.0
        ],
        [
         1065,
         0.0
        ],
        [
         1066,
         0.0
        ],
        [
         1067,
         1.0
        ],
        [
         1068,
         1.0
        ],
        [
         1069,
         0.0
        ],
        [
         1070,
         1.0
        ],
        [
         1071,
         1.0
        ],
        [
         1072,
         0.0
        ],
        [
         1073,
         0.0
        ],
        [
         1074,
         1.0
        ],
        [
         1075,
         0.0
        ],
        [
         1076,
         1.0
        ],
        [
         1077,
         0.0
        ],
        [
         1078,
         1.0
        ],
        [
         1079,
         0.0
        ],
        [
         1080,
         0.0
        ],
        [
         1081,
         0.0
        ],
        [
         1082,
         0.0
        ],
        [
         1083,
         0.0
        ],
        [
         1084,
         0.0
        ],
        [
         1085,
         0.0
        ],
        [
         1086,
         1.0
        ],
        [
         1087,
         0.0
        ],
        [
         1088,
         1.0
        ],
        [
         1089,
         1.0
        ],
        [
         1090,
         0.0
        ],
        [
         1091,
         1.0
        ],
        [
         1092,
         1.0
        ],
        [
         1093,
         1.0
        ],
        [
         1094,
         0.0
        ],
        [
         1095,
         1.0
        ],
        [
         1096,
         0.0
        ],
        [
         1097,
         0.0
        ],
        [
         1098,
         0.0
        ],
        [
         1099,
         0.0
        ],
        [
         1100,
         1.0
        ],
        [
         1101,
         0.0
        ],
        [
         1102,
         0.0
        ],
        [
         1103,
         0.0
        ],
        [
         1104,
         0.0
        ],
        [
         1105,
         1.0
        ],
        [
         1106,
         0.0
        ],
        [
         1107,
         0.0
        ],
        [
         1108,
         1.0
        ],
        [
         1109,
         0.0
        ],
        [
         1110,
         1.0
        ],
        [
         1111,
         0.0
        ],
        [
         1112,
         1.0
        ],
        [
         1113,
         0.0
        ],
        [
         1114,
         1.0
        ],
        [
         1115,
         0.0
        ],
        [
         1116,
         1.0
        ],
        [
         1117,
         1.0
        ],
        [
         1118,
         0.0
        ],
        [
         1119,
         1.0
        ],
        [
         1120,
         0.0
        ],
        [
         1121,
         0.0
        ],
        [
         1122,
         0.0
        ],
        [
         1123,
         1.0
        ],
        [
         1124,
         0.0
        ],
        [
         1125,
         0.0
        ],
        [
         1126,
         0.0
        ],
        [
         1127,
         0.0
        ],
        [
         1128,
         0.0
        ],
        [
         1129,
         0.0
        ],
        [
         1130,
         1.0
        ],
        [
         1131,
         1.0
        ],
        [
         1132,
         1.0
        ],
        [
         1133,
         1.0
        ],
        [
         1134,
         0.0
        ],
        [
         1135,
         0.0
        ],
        [
         1136,
         0.0
        ],
        [
         1137,
         0.0
        ],
        [
         1138,
         1.0
        ],
        [
         1139,
         0.0
        ],
        [
         1140,
         1.0
        ],
        [
         1141,
         1.0
        ],
        [
         1142,
         1.0
        ],
        [
         1143,
         0.0
        ],
        [
         1144,
         0.0
        ],
        [
         1145,
         0.0
        ],
        [
         1146,
         0.0
        ],
        [
         1147,
         0.0
        ],
        [
         1148,
         0.0
        ],
        [
         1149,
         0.0
        ],
        [
         1150,
         1.0
        ],
        [
         1151,
         0.0
        ],
        [
         1152,
         0.0
        ],
        [
         1153,
         0.0
        ],
        [
         1154,
         1.0
        ],
        [
         1155,
         1.0
        ],
        [
         1156,
         0.0
        ],
        [
         1157,
         0.0
        ],
        [
         1158,
         0.0
        ],
        [
         1159,
         0.0
        ],
        [
         1160,
         0.0
        ],
        [
         1161,
         0.0
        ],
        [
         1162,
         0.0
        ],
        [
         1163,
         0.0
        ],
        [
         1164,
         1.0
        ],
        [
         1165,
         1.0
        ],
        [
         1166,
         0.0
        ],
        [
         1167,
         1.0
        ],
        [
         1168,
         0.0
        ],
        [
         1169,
         0.0
        ],
        [
         1170,
         0.0
        ],
        [
         1171,
         0.0
        ],
        [
         1172,
         0.0
        ],
        [
         1173,
         1.0
        ],
        [
         1174,
         1.0
        ],
        [
         1175,
         1.0
        ],
        [
         1176,
         1.0
        ],
        [
         1177,
         0.0
        ],
        [
         1178,
         0.0
        ],
        [
         1179,
         0.0
        ],
        [
         1180,
         0.0
        ],
        [
         1181,
         0.0
        ],
        [
         1182,
         0.0
        ],
        [
         1183,
         0.0
        ],
        [
         1184,
         0.0
        ],
        [
         1185,
         0.0
        ],
        [
         1186,
         0.0
        ],
        [
         1187,
         0.0
        ],
        [
         1188,
         1.0
        ],
        [
         1189,
         0.0
        ],
        [
         1190,
         0.0
        ],
        [
         1191,
         0.0
        ],
        [
         1192,
         0.0
        ],
        [
         1193,
         0.0
        ],
        [
         1194,
         0.0
        ],
        [
         1195,
         0.0
        ],
        [
         1196,
         1.0
        ],
        [
         1197,
         1.0
        ],
        [
         1198,
         0.0
        ],
        [
         1199,
         1.0
        ],
        [
         1200,
         0.0
        ],
        [
         1201,
         0.0
        ],
        [
         1202,
         0.0
        ],
        [
         1203,
         0.0
        ],
        [
         1204,
         0.0
        ],
        [
         1205,
         0.0
        ],
        [
         1206,
         1.0
        ],
        [
         1207,
         1.0
        ],
        [
         1208,
         0.0
        ],
        [
         1209,
         0.0
        ],
        [
         1210,
         0.0
        ],
        [
         1211,
         0.0
        ],
        [
         1212,
         0.0
        ],
        [
         1213,
         0.0
        ],
        [
         1214,
         0.0
        ],
        [
         1215,
         0.0
        ],
        [
         1216,
         1.0
        ],
        [
         1217,
         0.0
        ],
        [
         1218,
         1.0
        ],
        [
         1219,
         0.0
        ],
        [
         1220,
         0.0
        ],
        [
         1221,
         0.0
        ],
        [
         1222,
         1.0
        ],
        [
         1223,
         0.0
        ],
        [
         1224,
         0.0
        ],
        [
         1225,
         1.0
        ],
        [
         1226,
         0.0
        ],
        [
         1227,
         0.0
        ],
        [
         1228,
         0.0
        ],
        [
         1229,
         0.0
        ],
        [
         1230,
         0.0
        ],
        [
         1231,
         0.0
        ],
        [
         1232,
         0.0
        ],
        [
         1233,
         0.0
        ],
        [
         1234,
         0.0
        ],
        [
         1235,
         1.0
        ],
        [
         1236,
         0.0
        ],
        [
         1237,
         1.0
        ],
        [
         1238,
         0.0
        ],
        [
         1239,
         0.0
        ],
        [
         1240,
         0.0
        ],
        [
         1241,
         1.0
        ],
        [
         1242,
         1.0
        ],
        [
         1243,
         0.0
        ],
        [
         1244,
         0.0
        ],
        [
         1245,
         0.0
        ],
        [
         1246,
         1.0
        ],
        [
         1247,
         0.0
        ],
        [
         1248,
         1.0
        ],
        [
         1249,
         0.0
        ],
        [
         1250,
         0.0
        ],
        [
         1251,
         0.0
        ],
        [
         1252,
         0.0
        ],
        [
         1253,
         1.0
        ],
        [
         1254,
         1.0
        ],
        [
         1255,
         0.0
        ],
        [
         1256,
         1.0
        ],
        [
         1257,
         0.0
        ],
        [
         1258,
         0.0
        ],
        [
         1259,
         0.0
        ],
        [
         1260,
         1.0
        ],
        [
         1261,
         0.0
        ],
        [
         1262,
         0.0
        ],
        [
         1263,
         1.0
        ],
        [
         1264,
         0.0
        ],
        [
         1265,
         0.0
        ],
        [
         1266,
         1.0
        ],
        [
         1267,
         1.0
        ],
        [
         1268,
         0.0
        ],
        [
         1269,
         0.0
        ],
        [
         1270,
         0.0
        ],
        [
         1271,
         0.0
        ],
        [
         1272,
         0.0
        ],
        [
         1273,
         0.0
        ],
        [
         1274,
         1.0
        ],
        [
         1275,
         1.0
        ],
        [
         1276,
         0.0
        ],
        [
         1277,
         1.0
        ],
        [
         1278,
         0.0
        ],
        [
         1279,
         0.0
        ],
        [
         1280,
         0.0
        ],
        [
         1281,
         0.0
        ],
        [
         1282,
         0.0
        ],
        [
         1283,
         1.0
        ],
        [
         1284,
         0.0
        ],
        [
         1285,
         0.0
        ],
        [
         1286,
         0.0
        ],
        [
         1287,
         1.0
        ],
        [
         1288,
         0.0
        ],
        [
         1289,
         1.0
        ],
        [
         1290,
         0.0
        ],
        [
         1291,
         0.0
        ],
        [
         1292,
         1.0
        ],
        [
         1293,
         0.0
        ],
        [
         1294,
         1.0
        ],
        [
         1295,
         0.0
        ],
        [
         1296,
         0.0
        ],
        [
         1297,
         0.0
        ],
        [
         1298,
         0.0
        ],
        [
         1299,
         0.0
        ],
        [
         1300,
         1.0
        ],
        [
         1301,
         1.0
        ],
        [
         1302,
         1.0
        ],
        [
         1303,
         1.0
        ],
        [
         1304,
         0.0
        ],
        [
         1305,
         0.0
        ],
        [
         1306,
         1.0
        ],
        [
         1307,
         0.0
        ],
        [
         1308,
         0.0
        ],
        [
         1309,
         0.0
        ]
       ],
       "datasetInfos": [],
       "dbfsResultPath": null,
       "isJsonSchema": true,
       "metadata": {},
       "overflow": false,
       "plotOptions": {
        "customPlotOptions": {},
        "displayType": "table",
        "pivotAggregation": null,
        "pivotColumns": null,
        "xColumns": null,
        "yColumns": null
       },
       "removedWidgets": [],
       "schema": [
        {
         "metadata": "{}",
         "name": "PassengerId",
         "type": "\"integer\""
        },
        {
         "metadata": "{\"ml_attr\":{\"type\":\"nominal\",\"num_vals\":2}}",
         "name": "Survived",
         "type": "\"double\""
        }
       ],
       "type": "table"
      }
     },
     "output_type": "display_data"
    }
   ],
   "source": [
    "# Make predictions\n",
    "predictions = model.transform(test_data)\n",
    "\n",
    "# Select PassengerId and prediction (as Survived)\n",
    "submission = predictions.select(col(\"PassengerId\"), col(\"prediction\").alias(\"Survived\"))\n",
    "\n",
    "# You can right click and download the submission, public score 0.77990\n",
    "display(submission)"
   ]
  }
 ],
 "metadata": {
  "application/vnd.databricks.v1+notebook": {
   "dashboards": [],
   "environmentMetadata": null,
   "language": "python",
   "notebookMetadata": {
    "pythonIndentUnit": 4
   },
   "notebookName": "Titanic",
   "widgets": {}
  }
 },
 "nbformat": 4,
 "nbformat_minor": 0
}
